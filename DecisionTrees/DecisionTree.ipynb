{
 "cells": [
  {
   "cell_type": "code",
   "execution_count": 1,
   "id": "72097066",
   "metadata": {},
   "outputs": [],
   "source": [
    "from matplotlib.colors import ListedColormap\n",
    "from sklearn import model_selection, datasets, metrics, tree"
   ]
  },
  {
   "cell_type": "code",
   "execution_count": 2,
   "id": "c9cfd9c8",
   "metadata": {},
   "outputs": [],
   "source": [
    "import matplotlib.pyplot as plt\n",
    "%matplotlib inline"
   ]
  },
  {
   "cell_type": "code",
   "execution_count": 3,
   "id": "9ac8f26b",
   "metadata": {},
   "outputs": [],
   "source": [
    "classification_problem = datasets.make_classification(n_features=2, n_informative=2, \n",
    "                                                      n_classes=3, n_redundant=0, \n",
    "                                                      n_clusters_per_class=1, random_state=3)"
   ]
  },
  {
   "cell_type": "code",
   "execution_count": 4,
   "id": "9e3b33ee",
   "metadata": {},
   "outputs": [],
   "source": [
    "colors = ListedColormap(['red', 'blue', 'yellow'])\n",
    "light_colors = ListedColormap(['lightcoral', 'lightblue', 'lightyellow'])"
   ]
  },
  {
   "cell_type": "code",
   "execution_count": 8,
   "id": "6b202156",
   "metadata": {},
   "outputs": [
    {
     "data": {
      "text/plain": [
       "<matplotlib.collections.PathCollection at 0x2c63a5dbb20>"
      ]
     },
     "execution_count": 8,
     "metadata": {},
     "output_type": "execute_result"
    },
    {
     "data": {
      "image/png": "[encoded data removed]",
      "text/plain": [
       "<Figure size 576x432 with 1 Axes>"
      ]
     },
     "metadata": {
      "needs_background": "light"
     },
     "output_type": "display_data"
    }
   ],
   "source": [
    "plt.figure(figsize=(8, 6))\n",
    "plt.scatter(list(map(lambda x: x[0], classification_problem[0])), \n",
    "            list(map(lambda x: x[1], classification_problem[0])), \n",
    "            c=classification_problem[1], cmap=colors, s=100)"
   ]
  },
  {
   "cell_type": "code",
   "execution_count": 9,
   "id": "0a3d1282",
   "metadata": {},
   "outputs": [],
   "source": [
    "train_data, test_data, train_labels, test_labels = model_selection.train_test_split(classification_problem[0],\n",
    "                                                                                    classification_problem[1],\n",
    "                                                                                    test_size=0.3, \n",
    "                                                                                    random_state=1\n",
    "                                                                                   )"
   ]
  },
  {
   "cell_type": "code",
   "execution_count": 10,
   "id": "5972bdf6",
   "metadata": {},
   "outputs": [
    {
     "data": {
      "text/plain": [
       "DecisionTreeClassifier(random_state=1)"
      ]
     },
     "execution_count": 10,
     "metadata": {},
     "output_type": "execute_result"
    }
   ],
   "source": [
    "clf = tree.DecisionTreeClassifier(random_state=1)\n",
    "clf.fit(train_data, train_labels)"
   ]
  },
  {
   "cell_type": "code",
   "execution_count": 13,
   "id": "97589a70",
   "metadata": {},
   "outputs": [
    {
     "data": {
      "text/plain": [
       "0.7666666666666667"
      ]
     },
     "execution_count": 13,
     "metadata": {},
     "output_type": "execute_result"
    }
   ],
   "source": [
    "predictions = clf.predict(test_data)\n",
    "metrics.accuracy_score(test_labels, predictions)"
   ]
  },
  {
   "cell_type": "code",
   "execution_count": 14,
   "id": "16e74e17",
   "metadata": {},
   "outputs": [],
   "source": [
    "def get_meshgrid(data, step=0.5, border=0.5):\n",
    "    x_min, x_max = data[:, 0].min() - border, data[:, 0].max() + border\n",
    "    y_min, y_max = data[:, 1].min() - border, data[:, 1].max() + border\n",
    "    return np.meshgrid(np.arange(x_min, x_max, step), np.arange(y_min, y_max, step))"
   ]
  },
  {
   "cell_type": "code",
   "execution_count": null,
   "id": "27fdec19",
   "metadata": {},
   "outputs": [],
   "source": [
    "def plot_decision_tree(estimator, train_data, train_labels, test_data, test_labels, \n",
    "                       colors=colors, light_colors=light_colors):\n",
    "    estimator.fit(train_data, train_labels)\n",
    "    plt.figure(figsize=(16, 6))\n",
    "    plt.subplot(1, 2, 1)\n",
    "    \n",
    "     "
   ]
  }
 ],
 "metadata": {
  "kernelspec": {
   "display_name": "Python 3 (ipykernel)",
   "language": "python",
   "name": "python3"
  },
  "language_info": {
   "codemirror_mode": {
    "name": "ipython",
    "version": 3
   },
   "file_extension": ".py",
   "mimetype": "text/x-python",
   "name": "python",
   "nbconvert_exporter": "python",
   "pygments_lexer": "ipython3",
   "version": "3.9.12"
  }
 },
 "nbformat": 4,
 "nbformat_minor": 5
}
