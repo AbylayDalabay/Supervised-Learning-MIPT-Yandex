{
 "cells": [
  {
   "cell_type": "code",
   "execution_count": 1,
   "id": "15f21c48",
   "metadata": {},
   "outputs": [],
   "source": [
    "from sklearn import model_selection, datasets, linear_model, metrics\n",
    "\n",
    "import numpy as np\n",
    "import pandas as pd"
   ]
  },
  {
   "cell_type": "code",
   "execution_count": 2,
   "id": "6d5d6817",
   "metadata": {},
   "outputs": [],
   "source": [
    "iris = datasets.load_iris()"
   ]
  },
  {
   "cell_type": "code",
   "execution_count": 30,
   "id": "077843fb",
   "metadata": {},
   "outputs": [],
   "source": [
    "train_data, test_data, train_labels, test_labels = model_selection.train_test_split(iris.data, iris.target, test_size=0.3, random_state=0)"
   ]
  },
  {
   "cell_type": "code",
   "execution_count": 31,
   "id": "6cb6e96e",
   "metadata": {},
   "outputs": [],
   "source": [
    "clf = linear_model.SGDClassifier(random_state=0)"
   ]
  },
  {
   "cell_type": "code",
   "execution_count": 32,
   "id": "044fab3c",
   "metadata": {},
   "outputs": [
    {
     "data": {
      "text/plain": [
       "{'alpha': 0.0001,\n",
       " 'average': False,\n",
       " 'class_weight': None,\n",
       " 'early_stopping': False,\n",
       " 'epsilon': 0.1,\n",
       " 'eta0': 0.0,\n",
       " 'fit_intercept': True,\n",
       " 'l1_ratio': 0.15,\n",
       " 'learning_rate': 'optimal',\n",
       " 'loss': 'hinge',\n",
       " 'max_iter': 1000,\n",
       " 'n_iter_no_change': 5,\n",
       " 'n_jobs': None,\n",
       " 'penalty': 'l2',\n",
       " 'power_t': 0.5,\n",
       " 'random_state': 0,\n",
       " 'shuffle': True,\n",
       " 'tol': 0.001,\n",
       " 'validation_fraction': 0.1,\n",
       " 'verbose': 0,\n",
       " 'warm_start': False}"
      ]
     },
     "execution_count": 32,
     "metadata": {},
     "output_type": "execute_result"
    }
   ],
   "source": [
    "clf.get_params()"
   ]
  },
  {
   "cell_type": "code",
   "execution_count": 44,
   "id": "b0b4f25c",
   "metadata": {},
   "outputs": [],
   "source": [
    "parameters = {\n",
    "    'loss': ['hinge', 'log', 'squared_hinge', 'squared_loss'],\n",
    "    'penalty': ['l1', 'l2'],\n",
    "    'max_iter': range(5, 10),\n",
    "    'alpha': np.linspace(0.0001, 0.001, 5)\n",
    "}"
   ]
  },
  {
   "cell_type": "code",
   "execution_count": 45,
   "id": "d1a7b2d1",
   "metadata": {},
   "outputs": [],
   "source": [
    "cv = model_selection.StratifiedShuffleSplit(n_splits=10, test_size=0.2, random_state=0)"
   ]
  },
  {
   "cell_type": "code",
   "execution_count": 46,
   "id": "54bb78b6",
   "metadata": {},
   "outputs": [
    {
     "data": {
      "text/plain": [
       "StratifiedShuffleSplit(n_splits=10, random_state=0, test_size=0.2,\n",
       "            train_size=None)"
      ]
     },
     "execution_count": 46,
     "metadata": {},
     "output_type": "execute_result"
    }
   ],
   "source": [
    "cv"
   ]
  },
  {
   "cell_type": "code",
   "execution_count": 47,
   "id": "6a4cf613",
   "metadata": {},
   "outputs": [
    {
     "data": {
      "text/plain": [
       "<generator object BaseShuffleSplit.split at 0x000001F26B3AE740>"
      ]
     },
     "execution_count": 47,
     "metadata": {},
     "output_type": "execute_result"
    }
   ],
   "source": [
    "cv.split(train_data, train_labels)"
   ]
  },
  {
   "cell_type": "code",
   "execution_count": 48,
   "id": "db829836",
   "metadata": {},
   "outputs": [
    {
     "data": {
      "text/plain": [
       "(105, 4)"
      ]
     },
     "execution_count": 48,
     "metadata": {},
     "output_type": "execute_result"
    }
   ],
   "source": [
    "train_data.shape"
   ]
  },
  {
   "cell_type": "code",
   "execution_count": 49,
   "id": "fe945c59",
   "metadata": {},
   "outputs": [
    {
     "data": {
      "text/plain": [
       "(105,)"
      ]
     },
     "execution_count": 49,
     "metadata": {},
     "output_type": "execute_result"
    }
   ],
   "source": [
    "train_labels.shape"
   ]
  },
  {
   "cell_type": "code",
   "execution_count": 50,
   "id": "8c0f0044",
   "metadata": {},
   "outputs": [
    {
     "data": {
      "text/plain": [
       "(45, 4)"
      ]
     },
     "execution_count": 50,
     "metadata": {},
     "output_type": "execute_result"
    }
   ],
   "source": [
    "test_data.shape"
   ]
  },
  {
   "cell_type": "code",
   "execution_count": 51,
   "id": "18f51069",
   "metadata": {},
   "outputs": [
    {
     "data": {
      "text/plain": [
       "(45,)"
      ]
     },
     "execution_count": 51,
     "metadata": {},
     "output_type": "execute_result"
    }
   ],
   "source": [
    "test_labels.shape"
   ]
  },
  {
   "cell_type": "code",
   "execution_count": 52,
   "id": "48db6b12",
   "metadata": {},
   "outputs": [
    {
     "name": "stdout",
     "output_type": "stream",
     "text": [
      "[ 76  57   9  50  31  10  56  61  99  88  32 104  78  89  49  45  84  93\n",
      "  85   5  44  20  24  72 103  55  86  11   3  34  66  39  64  29  46   7\n",
      "  17  12  92  40  28  67  42   0   6  68  18  38  82  30  81  75  15  79\n",
      "  33  53  58  65  74  13  52  95  25  54  23   8  87 101  77  14  73  71\n",
      "  83  98  47  59  51  63  60  26  90  94  21  48] [ 22 102  41 100  35  27  62  80  70  43  69  91  96   2  36  37  97   1\n",
      "  19   4  16]\n",
      "[  7  20 100  19  72  63  47  53  71  95  70  59  83 101  13  44   5  21\n",
      "  12  64  34  37  28  97  80  52  29 103  46  14  66  56  42  81  84  18\n",
      "   1   6  87  54  48  50   0  86  62  94  93  38  85  99  10  11  60  79\n",
      "  88  17  23  55  75  96  65  98  15  22  16  25  91  39  45  43  89  82\n",
      "  31  61  26  49   9  78  57  24   2  77  35   3] [ 73  68  90  74  92  32 104  36  51  41  69  67  27 102  30   8   4  33\n",
      "  40  58  76]\n",
      "[ 71  20  72  75  98  83  50 103  97  95  70  30  66  59  24  28  25  85\n",
      "   1  27  78  35  40  33  58  49  87 101  92  86  64  34  84  88  80  96\n",
      " 100  93 102   6  46  31  94  39  53  51  81  48  54  42  55  52  57  15\n",
      "  77  18  26   0  17  36  89  61  65   2  62  76  74  21  22   3  63  14\n",
      "   9  56  79  67  23  44  73  82  19  38  41   7] [ 69  90   5  29  91  32  16  99  47  60 104   8  11   4  12  43  13  10\n",
      "  45  37  68]\n",
      "[ 73   3  31  53  62  82  56  57  24  10  45  52  34  61  58  77  95  47\n",
      "  29  91  94  40  98  12 104  36 101  71  20 102 100  14  60  38   1   9\n",
      "  65  16  18  37  19  93  66  17  75  70  86  83  22  32   2   7  44  69\n",
      "  26  89  74  81  72  21  99  43  28  48  49  63  88  76  39  79  50  35\n",
      "  42  54  27  85  15  55  97  68  13  96   0   8] [ 78  46  64   5  87  33  11  51  23  67  90  59  84  92  41  25  80   4\n",
      "   6  30 103]\n",
      "[ 29  69  34  41  95  70  81  72  15  42  82  43  75  48  44  68  38  64\n",
      "  18  17  88  85  67  16 103  21  20  31   8  65  83  53  35  91  49  76\n",
      "  45  79  87  86  30  66   4  47  32   7  80  23  27  28  63  56   0  25\n",
      "  22  71  59  58  24  96  11   5  54  73  52  93  46   3  57  12  98  13\n",
      "  14 104  55  77  50  90  61  26   6  99  37   1] [  9  33  10  36  84  92  94 100  97  74  19  89   2  78  60  40 101 102\n",
      "  51  62  39]\n",
      "[ 20 102  65  86 101   8  42   5   2  61  38  73  48  13  22  60  83   3\n",
      "  54  35  26  99  76 104  11   0  24  92  89 100   4  88  98  52  57  39\n",
      "  51  34  67  46  91  25   9  15  90  59  94  40  21  18  12  30  41  63\n",
      "  97  23  14  27  45  55  93   7  71  43  36  19  53  85  96  69  87  80\n",
      "  72  16  17  32  47  10  37  74  58  78  56 103] [ 6 75  1 31 62 79 95 66 70 84 50 33 29 77 81 82 68 64 49 44 28]\n",
      "[ 35  46   6  53  59   4  15  74 104  82  66  83  21  23  29  68   1  98\n",
      "  80  81  41  96  33  34  93  39  61  78  36  95  71   9  38  62  90  58\n",
      "   0  22  45  54  79  91  12  84  97  37 100  17  57  64 101  85   2  63\n",
      "  28  14  43  49  11  92  26  73  75  48  24  77  94   7  50  51  32  60\n",
      "  88  19  72  86  20  87   5  42  56  10  69  27] [ 65  16  30  44   3  31  70  25  47  13  67  89   8 102  18  55  76  52\n",
      "  40  99 103]\n",
      "[ 86  52  71  29  34  55  69  77  10  96  66   4  41  43  91  84  82  56\n",
      "  85  16  57  60  92  74  63  50  59  98  68  72  12   8   3  47  13  39\n",
      "  53  95  27 100 103  22  14   1  58  18  23  65 104  32  87   6  88  67\n",
      "  20  21  42  25   7  19  45   0  80  44  28  54  36  78 101  40  33  62\n",
      "   5  31  73  61  79  46  30  89  94  81 102  83] [24 99 97 38 11 70 93 26 17 15  9 90  2 76 51 37 75 64 48 35 49]\n",
      "[  9  13 104  48 103  11  39  15  79  80  38  37  99  68  16  42  24  51\n",
      "   5  94 100   8   0  88   6  83  81  19  93  97  17  30  10  72  49  44\n",
      " 101  90  86  66 102  56  84  31  53  28  36  98  40  34  74  70  63  47\n",
      "  21  45  20  71   3  76  62  89  35  82  96  50  64  46  78  69  27  43\n",
      "  75  87  58  23  67  92  85  57  52  25   1  65] [60 32 12 95 41 26 14  4 59  7  2 18 77 33 61 91 55 73 22 29 54]\n",
      "[ 37  14  35 101  43  49  21  26  25 104  44  98  13  64  47  94   2  81\n",
      "  33  68  84   0  24  45  28  73  36  63  61  93  85  53  69  58  51  60\n",
      "  16  48  56  34   5  32  74  41  79  12   6  20  87  59  88  89 102  19\n",
      "  54  42  95  71  23  46  90 103   9   1  75  80   8  82  22  27  65  18\n",
      "  86  15  78  70  10  92  91  39   7  66  38  67] [ 55  40  83  76  96  30   4  77  29  99  50  62  17 100  31  57  11   3\n",
      "  52  72  97]\n"
     ]
    }
   ],
   "source": [
    "for train_indices, test_indices in cv.split(train_data, train_labels):\n",
    "    print(train_indices, test_indices)"
   ]
  },
  {
   "cell_type": "code",
   "execution_count": 53,
   "id": "b1012a7c",
   "metadata": {},
   "outputs": [],
   "source": [
    "grid_cv = model_selection.GridSearchCV(clf, parameters, scoring='accuracy', cv=cv)"
   ]
  },
  {
   "cell_type": "code",
   "execution_count": 55,
   "id": "98bd2def",
   "metadata": {},
   "outputs": [],
   "source": [
    "import warnings\n",
    "warnings.filterwarnings('ignore')"
   ]
  },
  {
   "cell_type": "code",
   "execution_count": 56,
   "id": "d857c02b",
   "metadata": {},
   "outputs": [
    {
     "name": "stdout",
     "output_type": "stream",
     "text": [
      "CPU times: total: 4.75 s\n",
      "Wall time: 4.82 s\n"
     ]
    },
    {
     "data": {
      "text/plain": [
       "GridSearchCV(cv=StratifiedShuffleSplit(n_splits=10, random_state=0, test_size=0.2,\n",
       "            train_size=None),\n",
       "             estimator=SGDClassifier(random_state=0),\n",
       "             param_grid={'alpha': array([0.0001  , 0.000325, 0.00055 , 0.000775, 0.001   ]),\n",
       "                         'loss': ['hinge', 'log', 'squared_hinge',\n",
       "                                  'squared_loss'],\n",
       "                         'max_iter': range(5, 10), 'penalty': ['l1', 'l2']},\n",
       "             scoring='accuracy')"
      ]
     },
     "execution_count": 56,
     "metadata": {},
     "output_type": "execute_result"
    }
   ],
   "source": [
    "%%time\n",
    "grid_cv.fit(train_data, train_labels)"
   ]
  },
  {
   "cell_type": "code",
   "execution_count": 57,
   "id": "ddeb4ba6",
   "metadata": {},
   "outputs": [
    {
     "data": {
      "text/plain": [
       "SGDClassifier(alpha=0.0007750000000000001, max_iter=9, penalty='l1',\n",
       "              random_state=0)"
      ]
     },
     "execution_count": 57,
     "metadata": {},
     "output_type": "execute_result"
    }
   ],
   "source": [
    "grid_cv.best_estimator_"
   ]
  },
  {
   "cell_type": "code",
   "execution_count": 68,
   "id": "87b842de",
   "metadata": {},
   "outputs": [
    {
     "data": {
      "text/plain": [
       "{'alpha': 0.0007750000000000001,\n",
       " 'loss': 'hinge',\n",
       " 'max_iter': 9,\n",
       " 'penalty': 'l1'}"
      ]
     },
     "execution_count": 68,
     "metadata": {},
     "output_type": "execute_result"
    }
   ],
   "source": [
    "pp = grid_cv.best_params_\n",
    "pp"
   ]
  },
  {
   "cell_type": "code",
   "execution_count": 60,
   "id": "1f28c6ae",
   "metadata": {},
   "outputs": [
    {
     "data": {
      "text/plain": [
       "0.9047619047619048"
      ]
     },
     "execution_count": 60,
     "metadata": {},
     "output_type": "execute_result"
    }
   ],
   "source": [
    "grid_cv.best_score_"
   ]
  },
  {
   "cell_type": "code",
   "execution_count": 84,
   "id": "58bd4626",
   "metadata": {},
   "outputs": [],
   "source": [
    "ff = linear_model.SGDClassifier(alpha=0.0007750000000000001,\n",
    " loss='hinge',\n",
    " max_iter=9,\n",
    " penalty='l1',\n",
    " random_state=0\n",
    ")"
   ]
  },
  {
   "cell_type": "code",
   "execution_count": 85,
   "id": "1597d3cc",
   "metadata": {},
   "outputs": [
    {
     "data": {
      "text/plain": [
       "SGDClassifier(alpha=0.0007750000000000001, max_iter=9, penalty='l1',\n",
       "              random_state=0)"
      ]
     },
     "execution_count": 85,
     "metadata": {},
     "output_type": "execute_result"
    }
   ],
   "source": [
    "ff.fit(train_data, train_labels)"
   ]
  },
  {
   "cell_type": "code",
   "execution_count": 86,
   "id": "a0bd53d5",
   "metadata": {},
   "outputs": [
    {
     "data": {
      "text/plain": [
       "0.9428571428571428"
      ]
     },
     "execution_count": 86,
     "metadata": {},
     "output_type": "execute_result"
    }
   ],
   "source": [
    "ff.score(train_data, train_labels)"
   ]
  },
  {
   "cell_type": "code",
   "execution_count": 87,
   "id": "6fa52174",
   "metadata": {},
   "outputs": [
    {
     "data": {
      "text/plain": [
       "0.9428571428571428"
      ]
     },
     "execution_count": 87,
     "metadata": {},
     "output_type": "execute_result"
    }
   ],
   "source": [
    "grid_cv.best_estimator_.score(train_data, train_labels)"
   ]
  },
  {
   "cell_type": "code",
   "execution_count": 88,
   "id": "55274b9f",
   "metadata": {},
   "outputs": [
    {
     "data": {
      "text/plain": [
       "{'alpha': 0.0007750000000000001,\n",
       " 'average': False,\n",
       " 'class_weight': None,\n",
       " 'early_stopping': False,\n",
       " 'epsilon': 0.1,\n",
       " 'eta0': 0.0,\n",
       " 'fit_intercept': True,\n",
       " 'l1_ratio': 0.15,\n",
       " 'learning_rate': 'optimal',\n",
       " 'loss': 'hinge',\n",
       " 'max_iter': 9,\n",
       " 'n_iter_no_change': 5,\n",
       " 'n_jobs': None,\n",
       " 'penalty': 'l1',\n",
       " 'power_t': 0.5,\n",
       " 'random_state': 0,\n",
       " 'shuffle': True,\n",
       " 'tol': 0.001,\n",
       " 'validation_fraction': 0.1,\n",
       " 'verbose': 0,\n",
       " 'warm_start': False}"
      ]
     },
     "execution_count": 88,
     "metadata": {},
     "output_type": "execute_result"
    }
   ],
   "source": [
    "grid_cv.best_estimator_.get_params()"
   ]
  },
  {
   "cell_type": "code",
   "execution_count": 89,
   "id": "bfdd7135",
   "metadata": {},
   "outputs": [
    {
     "data": {
      "text/plain": [
       "True"
      ]
     },
     "execution_count": 89,
     "metadata": {},
     "output_type": "execute_result"
    }
   ],
   "source": [
    "ff.get_params() == grid_cv.best_estimator_.get_params()"
   ]
  },
  {
   "cell_type": "code",
   "execution_count": 90,
   "id": "c9dcde13",
   "metadata": {},
   "outputs": [
    {
     "data": {
      "text/plain": [
       "{'alpha': 0.0007750000000000001,\n",
       " 'average': False,\n",
       " 'class_weight': None,\n",
       " 'early_stopping': False,\n",
       " 'epsilon': 0.1,\n",
       " 'eta0': 0.0,\n",
       " 'fit_intercept': True,\n",
       " 'l1_ratio': 0.15,\n",
       " 'learning_rate': 'optimal',\n",
       " 'loss': 'hinge',\n",
       " 'max_iter': 9,\n",
       " 'n_iter_no_change': 5,\n",
       " 'n_jobs': None,\n",
       " 'penalty': 'l1',\n",
       " 'power_t': 0.5,\n",
       " 'random_state': 0,\n",
       " 'shuffle': True,\n",
       " 'tol': 0.001,\n",
       " 'validation_fraction': 0.1,\n",
       " 'verbose': 0,\n",
       " 'warm_start': False}"
      ]
     },
     "execution_count": 90,
     "metadata": {},
     "output_type": "execute_result"
    }
   ],
   "source": [
    "ff.get_params()"
   ]
  },
  {
   "cell_type": "code",
   "execution_count": 91,
   "id": "b34ea46c",
   "metadata": {},
   "outputs": [],
   "source": [
    "for param in ff.get_params().keys():\n",
    "    if ff.get_params()[param] != grid_cv.best_estimator_.get_params()[param]:\n",
    "        print(param)"
   ]
  },
  {
   "cell_type": "code",
   "execution_count": 93,
   "id": "9dae7213",
   "metadata": {},
   "outputs": [],
   "source": [
    "grid_prikol = model_selection.GridSearchCV(clf, parameters)"
   ]
  },
  {
   "cell_type": "code",
   "execution_count": 94,
   "id": "50ec8896",
   "metadata": {},
   "outputs": [
    {
     "data": {
      "text/plain": [
       "{'cv': None,\n",
       " 'error_score': nan,\n",
       " 'estimator__alpha': 0.0001,\n",
       " 'estimator__average': False,\n",
       " 'estimator__class_weight': None,\n",
       " 'estimator__early_stopping': False,\n",
       " 'estimator__epsilon': 0.1,\n",
       " 'estimator__eta0': 0.0,\n",
       " 'estimator__fit_intercept': True,\n",
       " 'estimator__l1_ratio': 0.15,\n",
       " 'estimator__learning_rate': 'optimal',\n",
       " 'estimator__loss': 'hinge',\n",
       " 'estimator__max_iter': 1000,\n",
       " 'estimator__n_iter_no_change': 5,\n",
       " 'estimator__n_jobs': None,\n",
       " 'estimator__penalty': 'l2',\n",
       " 'estimator__power_t': 0.5,\n",
       " 'estimator__random_state': 0,\n",
       " 'estimator__shuffle': True,\n",
       " 'estimator__tol': 0.001,\n",
       " 'estimator__validation_fraction': 0.1,\n",
       " 'estimator__verbose': 0,\n",
       " 'estimator__warm_start': False,\n",
       " 'estimator': SGDClassifier(random_state=0),\n",
       " 'n_jobs': None,\n",
       " 'param_grid': {'loss': ['hinge', 'log', 'squared_hinge', 'squared_loss'],\n",
       "  'penalty': ['l1', 'l2'],\n",
       "  'max_iter': range(5, 10),\n",
       "  'alpha': array([0.0001  , 0.000325, 0.00055 , 0.000775, 0.001   ])},\n",
       " 'pre_dispatch': '2*n_jobs',\n",
       " 'refit': True,\n",
       " 'return_train_score': False,\n",
       " 'scoring': None,\n",
       " 'verbose': 0}"
      ]
     },
     "execution_count": 94,
     "metadata": {},
     "output_type": "execute_result"
    }
   ],
   "source": [
    "grid_prikol.get_params()"
   ]
  },
  {
   "cell_type": "code",
   "execution_count": 102,
   "id": "be9541c1",
   "metadata": {},
   "outputs": [
    {
     "data": {
      "text/plain": [
       "GridSearchCV(estimator=SGDClassifier(random_state=0),\n",
       "             param_grid={'alpha': array([0.0001  , 0.000325, 0.00055 , 0.000775, 0.001   ]),\n",
       "                         'loss': ['hinge', 'log', 'squared_hinge',\n",
       "                                  'squared_loss'],\n",
       "                         'max_iter': range(5, 10), 'penalty': ['l1', 'l2']})"
      ]
     },
     "execution_count": 102,
     "metadata": {},
     "output_type": "execute_result"
    }
   ],
   "source": [
    "grid_prikol.fit(train_data, train_labels)"
   ]
  },
  {
   "cell_type": "code",
   "execution_count": 103,
   "id": "273eb445",
   "metadata": {},
   "outputs": [
    {
     "data": {
      "text/plain": [
       "0.9238095238095239"
      ]
     },
     "execution_count": 103,
     "metadata": {},
     "output_type": "execute_result"
    }
   ],
   "source": [
    "grid_prikol.best_estimator_.score(train_data, train_labels)"
   ]
  },
  {
   "cell_type": "code",
   "execution_count": null,
   "id": "9d5e1790",
   "metadata": {},
   "outputs": [],
   "source": []
  },
  {
   "cell_type": "code",
   "execution_count": null,
   "id": "fe1102b8",
   "metadata": {},
   "outputs": [],
   "source": []
  }
 ],
 "metadata": {
  "kernelspec": {
   "display_name": "Python 3 (ipykernel)",
   "language": "python",
   "name": "python3"
  },
  "language_info": {
   "codemirror_mode": {
    "name": "ipython",
    "version": 3
   },
   "file_extension": ".py",
   "mimetype": "text/x-python",
   "name": "python",
   "nbconvert_exporter": "python",
   "pygments_lexer": "ipython3",
   "version": "3.9.12"
  }
 },
 "nbformat": 4,
 "nbformat_minor": 5
}
