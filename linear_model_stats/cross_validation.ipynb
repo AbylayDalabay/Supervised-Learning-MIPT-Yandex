{
 "cells": [
  {
   "cell_type": "code",
   "execution_count": 1,
   "id": "fd2568f4",
   "metadata": {},
   "outputs": [],
   "source": [
    "from sklearn import model_selection, datasets, linear_model, metrics"
   ]
  },
  {
   "cell_type": "code",
   "execution_count": 2,
   "id": "868251cc",
   "metadata": {},
   "outputs": [],
   "source": [
    "import numpy as np\n",
    "import pandas as pd"
   ]
  },
  {
   "cell_type": "code",
   "execution_count": 4,
   "id": "1ba214a1",
   "metadata": {},
   "outputs": [],
   "source": [
    "from sklearn.model_selection import train_test_split"
   ]
  },
  {
   "cell_type": "code",
   "execution_count": 5,
   "id": "1a5b981a",
   "metadata": {},
   "outputs": [],
   "source": [
    "iris = datasets.load_iris()"
   ]
  },
  {
   "cell_type": "code",
   "execution_count": 7,
   "id": "caf8feb2",
   "metadata": {},
   "outputs": [
    {
     "name": "stdout",
     "output_type": "stream",
     "text": [
      ".. _iris_dataset:\n",
      "\n",
      "Iris plants dataset\n",
      "--------------------\n",
      "\n",
      "**Data Set Characteristics:**\n",
      "\n",
      "    :Number of Instances: 150 (50 in each of three classes)\n",
      "    :Number of Attributes: 4 numeric, predictive attributes and the class\n",
      "    :Attribute Information:\n",
      "        - sepal length in cm\n",
      "        - sepal width in cm\n",
      "        - petal length in cm\n",
      "        - petal width in cm\n",
      "        - class:\n",
      "                - Iris-Setosa\n",
      "                - Iris-Versicolour\n",
      "                - Iris-Virginica\n",
      "                \n",
      "    :Summary Statistics:\n",
      "\n",
      "    ============== ==== ==== ======= ===== ====================\n",
      "                    Min  Max   Mean    SD   Class Correlation\n",
      "    ============== ==== ==== ======= ===== ====================\n",
      "    sepal length:   4.3  7.9   5.84   0.83    0.7826\n",
      "    sepal width:    2.0  4.4   3.05   0.43   -0.4194\n",
      "    petal length:   1.0  6.9   3.76   1.76    0.9490  (high!)\n",
      "    petal width:    0.1  2.5   1.20   0.76    0.9565  (high!)\n",
      "    ============== ==== ==== ======= ===== ====================\n",
      "\n",
      "    :Missing Attribute Values: None\n",
      "    :Class Distribution: 33.3% for each of 3 classes.\n",
      "    :Creator: R.A. Fisher\n",
      "    :Donor: Michael Marshall (MARSHALL%PLU@io.arc.nasa.gov)\n",
      "    :Date: July, 1988\n",
      "\n",
      "The famous Iris database, first used by Sir R.A. Fisher. The dataset is taken\n",
      "from Fisher's paper. Note that it's the same as in R, but not as in the UCI\n",
      "Machine Learning Repository, which has two wrong data points.\n",
      "\n",
      "This is perhaps the best known database to be found in the\n",
      "pattern recognition literature.  Fisher's paper is a classic in the field and\n",
      "is referenced frequently to this day.  (See Duda & Hart, for example.)  The\n",
      "data set contains 3 classes of 50 instances each, where each class refers to a\n",
      "type of iris plant.  One class is linearly separable from the other 2; the\n",
      "latter are NOT linearly separable from each other.\n",
      "\n",
      ".. topic:: References\n",
      "\n",
      "   - Fisher, R.A. \"The use of multiple measurements in taxonomic problems\"\n",
      "     Annual Eugenics, 7, Part II, 179-188 (1936); also in \"Contributions to\n",
      "     Mathematical Statistics\" (John Wiley, NY, 1950).\n",
      "   - Duda, R.O., & Hart, P.E. (1973) Pattern Classification and Scene Analysis.\n",
      "     (Q327.D83) John Wiley & Sons.  ISBN 0-471-22361-1.  See page 218.\n",
      "   - Dasarathy, B.V. (1980) \"Nosing Around the Neighborhood: A New System\n",
      "     Structure and Classification Rule for Recognition in Partially Exposed\n",
      "     Environments\".  IEEE Transactions on Pattern Analysis and Machine\n",
      "     Intelligence, Vol. PAMI-2, No. 1, 67-71.\n",
      "   - Gates, G.W. (1972) \"The Reduced Nearest Neighbor Rule\".  IEEE Transactions\n",
      "     on Information Theory, May 1972, 431-433.\n",
      "   - See also: 1988 MLC Proceedings, 54-64.  Cheeseman et al\"s AUTOCLASS II\n",
      "     conceptual clustering system finds 3 classes in the data.\n",
      "   - Many, many more ...\n"
     ]
    }
   ],
   "source": [
    "print(iris.DESCR)"
   ]
  },
  {
   "cell_type": "code",
   "execution_count": 11,
   "id": "af090548",
   "metadata": {},
   "outputs": [
    {
     "data": {
      "text/plain": [
       "array([0, 0, 0, 0, 0, 0, 0, 0, 0, 0])"
      ]
     },
     "execution_count": 11,
     "metadata": {},
     "output_type": "execute_result"
    }
   ],
   "source": [
    "iris.target[:10]"
   ]
  },
  {
   "cell_type": "code",
   "execution_count": 12,
   "id": "e1f74e31",
   "metadata": {},
   "outputs": [],
   "source": [
    "train_data, test_data, train_label, test_label = train_test_split(iris.data, iris.target, test_size=0.3)"
   ]
  },
  {
   "cell_type": "code",
   "execution_count": 16,
   "id": "474efec9",
   "metadata": {},
   "outputs": [
    {
     "data": {
      "text/plain": [
       "sklearn.model_selection._split.KFold"
      ]
     },
     "execution_count": 16,
     "metadata": {},
     "output_type": "execute_result"
    }
   ],
   "source": [
    "model_selection.KFold"
   ]
  },
  {
   "cell_type": "code",
   "execution_count": 52,
   "id": "7ad29c55",
   "metadata": {},
   "outputs": [],
   "source": [
    "kf = model_selection.KFold(n_splits=5)"
   ]
  },
  {
   "cell_type": "code",
   "execution_count": 53,
   "id": "7f3346f6",
   "metadata": {},
   "outputs": [
    {
     "data": {
      "text/plain": [
       "5"
      ]
     },
     "execution_count": 53,
     "metadata": {},
     "output_type": "execute_result"
    }
   ],
   "source": [
    "kf.get_n_splits(train_data[:20])"
   ]
  },
  {
   "cell_type": "code",
   "execution_count": 54,
   "id": "93538c06",
   "metadata": {},
   "outputs": [
    {
     "name": "stdout",
     "output_type": "stream",
     "text": [
      "[ 4  5  6  7  8  9 10 11 12 13 14 15 16 17 18 19] [0 1 2 3]\n",
      "[ 0  1  2  3  8  9 10 11 12 13 14 15 16 17 18 19] [4 5 6 7]\n",
      "[ 0  1  2  3  4  5  6  7 12 13 14 15 16 17 18 19] [ 8  9 10 11]\n",
      "[ 0  1  2  3  4  5  6  7  8  9 10 11 16 17 18 19] [12 13 14 15]\n",
      "[ 0  1  2  3  4  5  6  7  8  9 10 11 12 13 14 15] [16 17 18 19]\n"
     ]
    }
   ],
   "source": [
    "for train_indices, test_indices in kf.split(train_data[:20]):\n",
    "    print(train_indices, test_indices)"
   ]
  },
  {
   "cell_type": "code",
   "execution_count": 55,
   "id": "195c408c",
   "metadata": {},
   "outputs": [
    {
     "data": {
      "text/plain": [
       "<generator object _BaseKFold.split at 0x000002352B72FF90>"
      ]
     },
     "execution_count": 55,
     "metadata": {},
     "output_type": "execute_result"
    }
   ],
   "source": [
    "kf.split(train_data)"
   ]
  },
  {
   "cell_type": "code",
   "execution_count": 56,
   "id": "9b5d0af7",
   "metadata": {},
   "outputs": [],
   "source": [
    "kff = model_selection.KFold(n_splits=5, shuffle=True)"
   ]
  },
  {
   "cell_type": "code",
   "execution_count": 57,
   "id": "1f9a2029",
   "metadata": {},
   "outputs": [
    {
     "data": {
      "text/plain": [
       "5"
      ]
     },
     "execution_count": 57,
     "metadata": {},
     "output_type": "execute_result"
    }
   ],
   "source": [
    "kff.get_n_splits(train_data[:20])"
   ]
  },
  {
   "cell_type": "code",
   "execution_count": 58,
   "id": "5bff4e57",
   "metadata": {},
   "outputs": [
    {
     "data": {
      "text/plain": [
       "KFold(n_splits=5, random_state=None, shuffle=True)"
      ]
     },
     "execution_count": 58,
     "metadata": {},
     "output_type": "execute_result"
    }
   ],
   "source": [
    "kff"
   ]
  },
  {
   "cell_type": "code",
   "execution_count": null,
   "id": "1ef48c87",
   "metadata": {},
   "outputs": [],
   "source": []
  },
  {
   "cell_type": "code",
   "execution_count": 60,
   "id": "2c9d9c06",
   "metadata": {},
   "outputs": [
    {
     "name": "stdout",
     "output_type": "stream",
     "text": [
      "[ 0  1  3  4  5  6  8  9 10 11 13 14 16 17 18 19] [ 2  7 12 15]\n",
      "[ 0  1  2  3  4  5  6  7 10 11 12 15 16 17 18 19] [ 8  9 13 14]\n",
      "[ 1  2  3  5  6  7  8  9 11 12 13 14 15 17 18 19] [ 0  4 10 16]\n",
      "[ 0  2  4  6  7  8  9 10 12 13 14 15 16 17 18 19] [ 1  3  5 11]\n",
      "[ 0  1  2  3  4  5  7  8  9 10 11 12 13 14 15 16] [ 6 17 18 19]\n"
     ]
    }
   ],
   "source": [
    "for train_ind, test_ind in kff.split(train_data[:20]):\n",
    "    print(train_ind, test_ind)"
   ]
  },
  {
   "cell_type": "code",
   "execution_count": 77,
   "id": "1e3e8ab6",
   "metadata": {},
   "outputs": [],
   "source": [
    "skf = model_selection.StratifiedKFold(n_splits=3, shuffle=True)"
   ]
  },
  {
   "cell_type": "code",
   "execution_count": 78,
   "id": "c07e6538",
   "metadata": {},
   "outputs": [
    {
     "data": {
      "text/plain": [
       "<generator object _BaseKFold.split at 0x000002352C03D7B0>"
      ]
     },
     "execution_count": 78,
     "metadata": {},
     "output_type": "execute_result"
    }
   ],
   "source": [
    "skf.split(train_data, test_data)"
   ]
  },
  {
   "cell_type": "code",
   "execution_count": 79,
   "id": "e67dbbf3",
   "metadata": {},
   "outputs": [
    {
     "name": "stdout",
     "output_type": "stream",
     "text": [
      "[ 3  4  6  8  9 11 12 13 14 15 16 17 18] [ 0  1  2  5  7 10 19]\n",
      "[ 0  1  2  5  6  7 10 13 14 15 16 17 19] [ 3  4  8  9 11 12 18]\n",
      "[ 0  1  2  3  4  5  7  8  9 10 11 12 18 19] [ 6 13 14 15 16 17]\n"
     ]
    },
    {
     "name": "stderr",
     "output_type": "stream",
     "text": [
      "C:\\ProgramData\\Anaconda3\\lib\\site-packages\\sklearn\\model_selection\\_split.py:676: UserWarning: The least populated class in y has only 1 members, which is less than n_splits=3.\n",
      "  warnings.warn(\n"
     ]
    }
   ],
   "source": [
    "for train_i, test_i in skf.split(train_data[:20], train_label[:20]):\n",
    "    print(train_i, test_i)"
   ]
  },
  {
   "cell_type": "code",
   "execution_count": 80,
   "id": "79c508b9",
   "metadata": {},
   "outputs": [
    {
     "data": {
      "text/plain": [
       "(105, 4)"
      ]
     },
     "execution_count": 80,
     "metadata": {},
     "output_type": "execute_result"
    }
   ],
   "source": [
    "train_data.shape"
   ]
  },
  {
   "cell_type": "code",
   "execution_count": 81,
   "id": "af6c0dc6",
   "metadata": {},
   "outputs": [
    {
     "data": {
      "text/plain": [
       "(45, 4)"
      ]
     },
     "execution_count": 81,
     "metadata": {},
     "output_type": "execute_result"
    }
   ],
   "source": [
    "test_data.shape"
   ]
  },
  {
   "cell_type": "code",
   "execution_count": 82,
   "id": "586ed91a",
   "metadata": {},
   "outputs": [
    {
     "data": {
      "text/plain": [
       "array([[5.8, 2.7, 3.9, 1.2],\n",
       "       [7.2, 3. , 5.8, 1.6],\n",
       "       [6.7, 3.1, 4.7, 1.5],\n",
       "       [6.4, 3.2, 4.5, 1.5],\n",
       "       [6.1, 2.9, 4.7, 1.4],\n",
       "       [6.8, 3. , 5.5, 2.1],\n",
       "       [6.8, 3.2, 5.9, 2.3],\n",
       "       [6.6, 2.9, 4.6, 1.3],\n",
       "       [5. , 3.4, 1.5, 0.2],\n",
       "       [5.8, 2.7, 4.1, 1. ],\n",
       "       [6.3, 2.5, 5. , 1.9],\n",
       "       [6.2, 3.4, 5.4, 2.3],\n",
       "       [7.2, 3.2, 6. , 1.8],\n",
       "       [6.5, 2.8, 4.6, 1.5],\n",
       "       [7.7, 3. , 6.1, 2.3],\n",
       "       [6.4, 2.9, 4.3, 1.3],\n",
       "       [6.9, 3.1, 4.9, 1.5],\n",
       "       [6.7, 2.5, 5.8, 1.8],\n",
       "       [5.9, 3. , 4.2, 1.5],\n",
       "       [5.6, 2.7, 4.2, 1.3]])"
      ]
     },
     "execution_count": 82,
     "metadata": {},
     "output_type": "execute_result"
    }
   ],
   "source": [
    "train_data[:20]"
   ]
  },
  {
   "cell_type": "code",
   "execution_count": 83,
   "id": "d4df80b4",
   "metadata": {},
   "outputs": [
    {
     "data": {
      "text/plain": [
       "array([1, 2, 1, 1, 1, 2, 2, 1, 0, 1, 2, 2, 2, 1, 2, 1, 1, 2, 1, 1])"
      ]
     },
     "execution_count": 83,
     "metadata": {},
     "output_type": "execute_result"
    }
   ],
   "source": [
    "train_label[:20]"
   ]
  },
  {
   "cell_type": "code",
   "execution_count": null,
   "id": "a7fe5519",
   "metadata": {},
   "outputs": [],
   "source": []
  },
  {
   "cell_type": "code",
   "execution_count": 95,
   "id": "5c0f3a2d",
   "metadata": {},
   "outputs": [
    {
     "name": "stdout",
     "output_type": "stream",
     "text": [
      "train_i: [2 1 1 1 2 2 0 1 2 1 2 1 1], test_i:[1 1 2 2 1 1 2], percentage1: 7, percentage2: 5\n",
      "train_i: [1 2 1 2 2 1 2 2 1 1 2 1 1], test_i:[1 1 0 1 2 1 2], percentage1: 7, percentage2: 6\n",
      "train_i: [1 1 1 1 0 1 2 2 2 1 2 1 1 2], test_i:[2 1 2 2 1 1], percentage1: 8, percentage2: 5\n"
     ]
    },
    {
     "name": "stderr",
     "output_type": "stream",
     "text": [
      "C:\\ProgramData\\Anaconda3\\lib\\site-packages\\sklearn\\model_selection\\_split.py:676: UserWarning: The least populated class in y has only 1 members, which is less than n_splits=3.\n",
      "  warnings.warn(\n"
     ]
    }
   ],
   "source": [
    "for train_i, test_i in skf.split(train_data[:20], train_label[:20]):\n",
    "    print(f\"train_i: {train_label[train_i]}, test_i:{train_label[test_i]}, percentage1: {train_label[train_i][train_label[train_i] == 1].shape[0]}, percentage2: {train_label[train_i][train_label[train_i] == 2].shape[0]}\")"
   ]
  },
  {
   "cell_type": "code",
   "execution_count": 88,
   "id": "3b7bfc45",
   "metadata": {},
   "outputs": [],
   "source": [
    "y = train_label[:20]"
   ]
  },
  {
   "cell_type": "code",
   "execution_count": 93,
   "id": "cc521818",
   "metadata": {},
   "outputs": [
    {
     "data": {
      "text/plain": [
       "11"
      ]
     },
     "execution_count": 93,
     "metadata": {},
     "output_type": "execute_result"
    }
   ],
   "source": [
    "y[y == 1].shape[0]"
   ]
  },
  {
   "cell_type": "code",
   "execution_count": 94,
   "id": "a75656aa",
   "metadata": {},
   "outputs": [
    {
     "data": {
      "text/plain": [
       "8"
      ]
     },
     "execution_count": 94,
     "metadata": {},
     "output_type": "execute_result"
    }
   ],
   "source": [
    "y[y == 2].shape[0]"
   ]
  },
  {
   "cell_type": "code",
   "execution_count": 106,
   "id": "22b519d8",
   "metadata": {},
   "outputs": [],
   "source": [
    "ss = model_selection.ShuffleSplit(n_splits=5, test_size=0.2, random_state=1)"
   ]
  },
  {
   "cell_type": "code",
   "execution_count": 107,
   "id": "e4a97514",
   "metadata": {},
   "outputs": [
    {
     "data": {
      "text/plain": [
       "5"
      ]
     },
     "execution_count": 107,
     "metadata": {},
     "output_type": "execute_result"
    }
   ],
   "source": [
    "ss.get_n_splits()"
   ]
  },
  {
   "cell_type": "code",
   "execution_count": 108,
   "id": "05172961",
   "metadata": {},
   "outputs": [
    {
     "data": {
      "text/plain": [
       "ShuffleSplit(n_splits=5, random_state=1, test_size=0.2, train_size=None)"
      ]
     },
     "execution_count": 108,
     "metadata": {},
     "output_type": "execute_result"
    }
   ],
   "source": [
    "ss"
   ]
  },
  {
   "cell_type": "code",
   "execution_count": 111,
   "id": "7dcdfb7f",
   "metadata": {},
   "outputs": [
    {
     "name": "stdout",
     "output_type": "stream",
     "text": [
      "[ 83  67  53  58  55  87  85  59  36  10   2  32  70  19  27  44  62  98\n",
      " 100  40  46  56  78  23  34  91  94 102  15  88  41  51  45  96  52  26\n",
      " 103  43  97  24   4  66  74  49  21   3  30  47  80   8  60   0  95  57\n",
      "  22  61  63   7 101  13  68  90  14  29  28  11  84  18  20  50  25   6\n",
      "  71  76   1  16  64  79   5  75   9  72  12  37] [ 65  35  42  93  38  39  54  86  31  77  99  81  92  82  33  89 104  69\n",
      "  17  73  48]\n",
      "[ 11   0  44  33  69  52   3  34  62  28  16  91  51  59  27  46  95  37\n",
      "  99 104  89  80   9  90  72  50   6 102  63  83  14  49  58  19  61  39\n",
      "  21  25  56  55  85  79  96  53  93  22  87  86  42  17   5  15  78  48\n",
      "  71  66  70  54  92   2  88  60  65  12  32 101  74  24  98  81  23  10\n",
      "  13  82  57  68  45   7  36  30  20  43  76  75] [ 47  97  73  67  94  40   4  38  77  26   8  29  18  41  84 100 103  31\n",
      "  64   1  35]\n",
      "[ 54  76  40  51  81  12  36  18  77  95  33 102  59  58  61  43  93 100\n",
      "  55  85   3  21  97  23   4  62  75   9  87  16  65   0  80 101  50  57\n",
      "  48  71  25   6  13  10  41  84  22  28  35  39  73  90  64  68  17  99\n",
      "  66  74  42  88  63  79   5  98  38 104 103  67  96  32  34  60  47  53\n",
      "   7  86  26  19  14  91  30  15  44  20  24  83] [46 72 82 92 27 45 56 94  8  1 89 31 52 69 70  2 78 11 49 37 29]\n",
      "[ 92   1  90  97  73  17  58   0  68 103  63  86  55  32   6  85  45  50\n",
      "  47  79  21  54 102  42  78  14  67  34 101  37  91  93  25  60  69  51\n",
      "  38  33  18  40  62  89  74  72  88  71  28  27  46  77   2  81  35  80\n",
      " 100  16  87  11  76  57  41   9  53  66  98  23  36  13  95  61  48  83\n",
      "  39  12  70   3  52  22  64  30  84  26  96  94] [ 44  56  75  43  20  49 104  65  82   8  10  31  15  24  19   7  29  99\n",
      "   5  59   4]\n",
      "[ 76   1  22  84  26  79   9  53  11  54  55  51  91  46   7  37  41   8\n",
      "  80  73  67  17  92  38  70  14  97  49  34  83  39  90 104  13  96  21\n",
      "  88  24  63  35  64  31  44  43  60  82  98  59  30  18 101  15  61   2\n",
      "  85  58   3  68  50  27   4  16  77  25  12  19  48  72 103  99  87  78\n",
      "  56  57  52  86  42 100  81   5  75  28  10  33] [ 23  94  20  93  32  40  29  47  69  74  45  89  95  71   6  65 102  62\n",
      "   0  36  66]\n"
     ]
    }
   ],
   "source": [
    "for train_i, test_i in ss.split(train_data):\n",
    "    print(train_i, test_i)"
   ]
  },
  {
   "cell_type": "code",
   "execution_count": 128,
   "id": "1e53a98e",
   "metadata": {},
   "outputs": [
    {
     "name": "stdout",
     "output_type": "stream",
     "text": [
      "[0 0 0 0 0 1 1 1 1 1]\n",
      "[  4  59 101  73 100  18  28  51  24  23   0  54  81  69  72  84  36  85\n",
      "  65  60  22  86  53  45  90  95   6  79  66  52  31  87  74   7  78  64\n",
      "  56  33  39  62  29  40  19  14  96  76  92  16  10  55  63 104  71  93\n",
      "  43  77  88  38  61  49  20   2  12  41  47  37  34  82  80  48  13  97\n",
      "  50 103  83  15  46  58  89  57  70  44  25  11  94  68  30  98   8  17\n",
      "   5  42  35   3] [ 99  67   9  21  26  91  75   1  27  32 102]\n",
      "[ 75  84  82  69  35  93   2  68 100  33  74  40  12  15   5  56  36  14\n",
      "  57  81  47  73  54  55  51  45  24   3  23  76  97  71   6  88  19   0\n",
      "  29  59  32  28  48  66  95   1  38   8  77   9  17  65 103  52 101  99\n",
      "  37  60  26  91  13  30  94  53  92  25  89  16  70  58  86  63  72  31\n",
      "  79  43  64  62  87  85  98  50  46  41  80  83  39  21  42  18  49  90\n",
      "  27  78  44  20] [102  10  22  96  67   7   4  61 104  11  34]\n",
      "[ 48  29  89  75   4  47  45  88   9  65  23  99  91  52  84  27  71  24\n",
      "  14  92  31  70  93 102  62  40  90  56  35  57   2  12  81  38  73  16\n",
      " 103  44   0  76  25  55  78  66  49  15  85  11  94  51  36 101  87  22\n",
      "  61  60  33  74  19  83 104  80   5  42  46  28  67  18  39  58   7  10\n",
      "  26  68  32  79  59   6  34  95  77  17 100  63  30  43   1  98  82  97\n",
      "  20  64  72  13] [21 86 96 53  3 37 69  8 41 54 50]\n",
      "[ 68  60  25  98   8   6  79 104  45  99  48  56  29   7   1  92  89  15\n",
      "  23  46  24   3   2  85  19  50  96  74  77  11   0 102  90  71  27  37\n",
      "  40  65  20  63  62 100  16  14  66  39  95  76  78  94  51  91  82  93\n",
      "  42  88  80  17  41  36  87  44  49  72  30  55  54  69  32  67  81   9\n",
      "  33   5 101  84  28  18  64  47  73  38  34  13  86   4  59  53 103  75\n",
      "  61  35  52  97] [58 26 57 10 43 12 83 22 70 21 31]\n"
     ]
    }
   ],
   "source": [
    "target = np.array([0] * 5 + [1] * 5)\n",
    "print(target)\n",
    "\n",
    "fft = model_selection.StratifiedShuffleSplit(n_splits=4)\n",
    "\n",
    "for train_indices, test_indices in fft.split(train_data, train_label):\n",
    "    print(train_indices, test_indices)"
   ]
  },
  {
   "cell_type": "code",
   "execution_count": 135,
   "id": "d237f698",
   "metadata": {},
   "outputs": [
    {
     "name": "stdout",
     "output_type": "stream",
     "text": [
      "[ 1  2  3  4  5  6  7  8  9 10 11 12 13 14 15 16 17 18 19] [0]\n",
      "[ 0  2  3  4  5  6  7  8  9 10 11 12 13 14 15 16 17 18 19] [1]\n",
      "[ 0  1  3  4  5  6  7  8  9 10 11 12 13 14 15 16 17 18 19] [2]\n",
      "[ 0  1  2  4  5  6  7  8  9 10 11 12 13 14 15 16 17 18 19] [3]\n",
      "[ 0  1  2  3  5  6  7  8  9 10 11 12 13 14 15 16 17 18 19] [4]\n",
      "[ 0  1  2  3  4  6  7  8  9 10 11 12 13 14 15 16 17 18 19] [5]\n",
      "[ 0  1  2  3  4  5  7  8  9 10 11 12 13 14 15 16 17 18 19] [6]\n",
      "[ 0  1  2  3  4  5  6  8  9 10 11 12 13 14 15 16 17 18 19] [7]\n",
      "[ 0  1  2  3  4  5  6  7  9 10 11 12 13 14 15 16 17 18 19] [8]\n",
      "[ 0  1  2  3  4  5  6  7  8 10 11 12 13 14 15 16 17 18 19] [9]\n",
      "[ 0  1  2  3  4  5  6  7  8  9 11 12 13 14 15 16 17 18 19] [10]\n",
      "[ 0  1  2  3  4  5  6  7  8  9 10 12 13 14 15 16 17 18 19] [11]\n",
      "[ 0  1  2  3  4  5  6  7  8  9 10 11 13 14 15 16 17 18 19] [12]\n",
      "[ 0  1  2  3  4  5  6  7  8  9 10 11 12 14 15 16 17 18 19] [13]\n",
      "[ 0  1  2  3  4  5  6  7  8  9 10 11 12 13 15 16 17 18 19] [14]\n",
      "[ 0  1  2  3  4  5  6  7  8  9 10 11 12 13 14 16 17 18 19] [15]\n",
      "[ 0  1  2  3  4  5  6  7  8  9 10 11 12 13 14 15 17 18 19] [16]\n",
      "[ 0  1  2  3  4  5  6  7  8  9 10 11 12 13 14 15 16 18 19] [17]\n",
      "[ 0  1  2  3  4  5  6  7  8  9 10 11 12 13 14 15 16 17 19] [18]\n",
      "[ 0  1  2  3  4  5  6  7  8  9 10 11 12 13 14 15 16 17 18] [19]\n"
     ]
    }
   ],
   "source": [
    "for train_indices, test_indices in model_selection.LeaveOneOut().split(train_data[:20], train_label[:20]):\n",
    "    print(train_indices, test_indices)"
   ]
  },
  {
   "cell_type": "code",
   "execution_count": null,
   "id": "6bee0d8b",
   "metadata": {},
   "outputs": [],
   "source": []
  }
 ],
 "metadata": {
  "kernelspec": {
   "display_name": "Python 3 (ipykernel)",
   "language": "python",
   "name": "python3"
  },
  "language_info": {
   "codemirror_mode": {
    "name": "ipython",
    "version": 3
   },
   "file_extension": ".py",
   "mimetype": "text/x-python",
   "name": "python",
   "nbconvert_exporter": "python",
   "pygments_lexer": "ipython3",
   "version": "3.9.12"
  }
 },
 "nbformat": 4,
 "nbformat_minor": 5
}
